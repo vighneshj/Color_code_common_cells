{
 "cells": [
  {
   "cell_type": "code",
   "execution_count": 105,
   "id": "d020a743",
   "metadata": {},
   "outputs": [
    {
     "data": {
      "text/plain": [
       "\"This is a python program which is able to read the \\ncontents of the excel file and color code the \\ncells having same values. The reason for creating this code\\nis because when I try to build the queries in SQL it is a bit \\ntedious job for me to lookup the tables where I have the common\\ncolumn names and build the query to fetch the data.\\n\\nSo I have created this program which reads the file\\nthat contains the table names in the first row and\\nand the respective column names in the rows below.\\n\\nThis code is able to read the excel file which has the extension\\n'.xlsx' and return another file that has the cells that are coded\\nand another set of columns that shows the list of common column\\nnames and the color that is used for coding.\\n\\nThe color that is generated is random and so everytime the code is run\\nthe color schem will keep changing\""
      ]
     },
     "execution_count": 105,
     "metadata": {},
     "output_type": "execute_result"
    }
   ],
   "source": [
    "'''This is a python program which is able to read the \n",
    "contents of the excel file and color code the \n",
    "cells having same values. The reason for creating this code\n",
    "is because when I try to build the queries in SQL it is a bit \n",
    "tedious job for me to lookup the tables where I have the common\n",
    "column names and build the query to fetch the data.\n",
    "\n",
    "So I have created this program which reads the file\n",
    "that contains the table names in the first row and\n",
    "and the respective column names in the rows below.\n",
    "\n",
    "This code is able to read the excel file which has the extension\n",
    "'.xlsx' and return another file that has the cells that are coded\n",
    "and another set of columns that shows the list of common column\n",
    "names and the color that is used for coding.\n",
    "\n",
    "The color that is generated is random and so everytime the code is run\n",
    "the color schem will keep changing'''"
   ]
  },
  {
   "cell_type": "code",
   "execution_count": 106,
   "id": "5a48346a",
   "metadata": {},
   "outputs": [
    {
     "name": "stdout",
     "output_type": "stream",
     "text": [
      "['tables_details']\n",
      "tables_details\n"
     ]
    }
   ],
   "source": [
    "## Loading the required packages from openpyxl library to perform the operations\n",
    "from openpyxl import Workbook,load_workbook\n",
    "from openpyxl.styles import Color, PatternFill, Font, Border\n",
    "#from openpyxl.styles.differential import DifferentialStyle\n",
    "#from openpyxl.formatting.rule import ColorScaleRule, CellIsRule, FormulaRule,Rule\n",
    "\n",
    "\n",
    "#wb = Workbook() #Accessing the workbook module from the openoyxl package\n",
    "#print(wb.sheetnames) #Printing the name of the work sheets present in the excel file\n",
    "\n",
    "load_wb = load_workbook('table_information.xlsx') # loading the contents of the excel file into the object.\n",
    "print(load_wb.sheetnames) #Printing the names of the worksheets in the loaded excel file\n",
    "\n",
    "#print(type(load_wb.sheetnames))\n",
    "#Empty list to store and print the names of the worksheets of the loaded excel file\n",
    "name_sheets=[] \n",
    "\n",
    "#Storing the names of the worksheets\n",
    "for i in range(len(load_wb.sheetnames)):\n",
    "    name_sheets.append(load_wb.sheetnames[i])\n",
    "\n",
    "#Printing the name of the worksheets\n",
    "for i in range(len(name_sheets)):\n",
    "    print(name_sheets[i])\n",
    "\n",
    "ws = load_wb[name_sheets[0]] # Accessing the elements of the worksheet\n",
    "#ws = load_wb.active\n",
    "######################################################################################\n",
    "\n",
    "#table_names = list(ws[1]) #Accessing the tables names which are the first row details in the loaded file\n",
    "#print('This is the type of the table names variable'+str(type(table_names)))\n",
    "#print(table_names)"
   ]
  },
  {
   "cell_type": "code",
   "execution_count": 107,
   "id": "db60629e",
   "metadata": {},
   "outputs": [],
   "source": [
    "#Saving the first row of elements as table names\n",
    "first_row = ws.rows\n",
    "tablenames = [cell.value for cell in next(first_row)]\n",
    "#print(tablenames)"
   ]
  },
  {
   "cell_type": "code",
   "execution_count": 108,
   "id": "9a9ead80",
   "metadata": {},
   "outputs": [],
   "source": [
    "all_det = []\n",
    "col_det = {}\n",
    "d = ws.cell(row=2, column=2, value=None)\n",
    "#print(d.value)"
   ]
  },
  {
   "cell_type": "code",
   "execution_count": 109,
   "id": "530b5c09",
   "metadata": {},
   "outputs": [],
   "source": [
    "for row in tablenames:\n",
    "    col_ind = (tablenames.index(row)) + 1\n",
    "    i=2;\n",
    "    d = ws.cell(row=i, column=col_ind).value\n",
    "    while (str(d) != 'None'):\n",
    "        d = ws.cell(row=i, column=col_ind).value\n",
    "        all_det.append(str(d))\n",
    "        i = i + 1\n",
    "    col_det[row]=all_det\n",
    "    all_det = []"
   ]
  },
  {
   "cell_type": "code",
   "execution_count": 110,
   "id": "d2e131da",
   "metadata": {},
   "outputs": [],
   "source": [
    "#print(type(col_det))"
   ]
  },
  {
   "cell_type": "code",
   "execution_count": 111,
   "id": "f8893d98",
   "metadata": {},
   "outputs": [],
   "source": [
    "#print(col_det)"
   ]
  },
  {
   "cell_type": "code",
   "execution_count": 112,
   "id": "aeb6098c",
   "metadata": {},
   "outputs": [],
   "source": [
    "#Common names finder\n",
    "duplicate_values = []\n",
    "for name in col_det:\n",
    "    for cell in col_det[name]:\n",
    "        count = 0\n",
    "        for tname in col_det:\n",
    "            for i in range(len(col_det[tname])):\n",
    "                if(col_det[tname][i]==cell):\n",
    "                    count=count+1\n",
    "            #print(f\"{cell}\\t{count}\\t{name}\") ## test to print the values and their occurences\n",
    "            if (count>1):\n",
    "                duplicate_values.append(cell)\n",
    "\n",
    "duplicate_values = list(set(duplicate_values)) # To have the common values stored only once\n",
    "#print(duplicate_values)\n"
   ]
  },
  {
   "cell_type": "code",
   "execution_count": 113,
   "id": "d2a93d69",
   "metadata": {},
   "outputs": [],
   "source": [
    "import random\n",
    "def random_color_generator(common_values):\n",
    "    com_val = common_values\n",
    "    values_with_colors = {}\n",
    "    for val in common_values:\n",
    "        hexadecimal = [\"#\"+''.join([random.choice('ABCDEF0123456789') for i in range(6)])]\n",
    "        add_vals = []\n",
    "        while (hexadecimal != '#000000' or(hexadecimal == '#FFFFFF')):\n",
    "            #print(f\"{val}{hexadecimal}\")\n",
    "            add_vals.append(val)\n",
    "            add_vals.append(hexadecimal)\n",
    "            values_with_colors[val]=add_vals\n",
    "            #print(values_with_colors[val]) # to test the color output            \n",
    "            break;\n",
    "            \n",
    "    return values_with_colors"
   ]
  },
  {
   "cell_type": "code",
   "execution_count": 114,
   "id": "a6d5ec17",
   "metadata": {},
   "outputs": [],
   "source": [
    "final_color_vals = random_color_generator(duplicate_values)"
   ]
  },
  {
   "cell_type": "code",
   "execution_count": 115,
   "id": "3ae7403d",
   "metadata": {},
   "outputs": [],
   "source": [
    "# performing the formatting operations\n",
    "for row in tablenames:\n",
    "    col_ind = (tablenames.index(row)) + 1\n",
    "    i = 2\n",
    "    d = ws.cell(row=i, column=col_ind).value\n",
    "    while (str(d) != 'None'):\n",
    "        d = ws.cell(row=i, column=col_ind).value\n",
    "        for val in duplicate_values:\n",
    "            if (val == d):\n",
    "                back_col = str(final_color_vals[val][1])[3:9]\n",
    "                fill_pattern = PatternFill(patternType='solid',fgColor = back_col)\n",
    "                ws.cell(row=i,column=col_ind).fill = fill_pattern\n",
    "                \n",
    "        i = i + 1\n"
   ]
  },
  {
   "cell_type": "code",
   "execution_count": 116,
   "id": "8fc871d3",
   "metadata": {},
   "outputs": [],
   "source": [
    "col_name_ind = len(tablenames) + 2\n",
    "col_legend_ind = col_name_ind + 1\n",
    "ws.cell(row = 1, column = col_name_ind).value = 'Common Column Names'\n",
    "ws.cell(row = 1, column = col_legend_ind ).value = 'Legend'\n",
    "for i in range(len(duplicate_values)):\n",
    "    ws.cell(row = i+2,column = col_name_ind).value = duplicate_values[i]\n",
    "    back_col = str(final_color_vals[duplicate_values[i]][1])[3:9]\n",
    "    fill_pattern = PatternFill(patternType='solid',fgColor = back_col)\n",
    "    ws.cell(row=i+2,column=col_legend_ind).fill = fill_pattern\n",
    "    i = i + 1"
   ]
  },
  {
   "cell_type": "code",
   "execution_count": 117,
   "id": "87cee37b",
   "metadata": {},
   "outputs": [],
   "source": [
    "load_wb.save('test.xlsx')"
   ]
  }
 ],
 "metadata": {
  "kernelspec": {
   "display_name": "Python 3.8.10 64-bit",
   "language": "python",
   "name": "python3810jvsc74a57bd0916dbcbb3f70747c44a77c7bcd40155683ae19c65e1c03b4aa3499c5328201f1"
  },
  "language_info": {
   "codemirror_mode": {
    "name": "ipython",
    "version": 3
   },
   "file_extension": ".py",
   "mimetype": "text/x-python",
   "name": "python",
   "nbconvert_exporter": "python",
   "pygments_lexer": "ipython3",
   "version": "3.8.10"
  }
 },
 "nbformat": 4,
 "nbformat_minor": 5
}
